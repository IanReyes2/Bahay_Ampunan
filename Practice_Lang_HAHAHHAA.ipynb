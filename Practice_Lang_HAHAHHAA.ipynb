{
  "nbformat": 4,
  "nbformat_minor": 0,
  "metadata": {
    "colab": {
      "provenance": [],
      "authorship_tag": "ABX9TyMj/r0sCdqsj2f5GhFszO45",
      "include_colab_link": true
    },
    "kernelspec": {
      "name": "python3",
      "display_name": "Python 3"
    },
    "language_info": {
      "name": "python"
    }
  },
  "cells": [
    {
      "cell_type": "markdown",
      "metadata": {
        "id": "view-in-github",
        "colab_type": "text"
      },
      "source": [
        "<a href=\"https://colab.research.google.com/github/IanReyes2/Bahay_Ampunan/blob/main/Practice_Lang_HAHAHHAA.ipynb\" target=\"_parent\"><img src=\"https://colab.research.google.com/assets/colab-badge.svg\" alt=\"Open In Colab\"/></a>"
      ]
    },
    {
      "cell_type": "code",
      "execution_count": 9,
      "metadata": {
        "colab": {
          "base_uri": "https://localhost:8080/"
        },
        "id": "m7S1ozYTDxkO",
        "outputId": "dbf0a85f-2fb1-4358-fea0-107378e18f76"
      },
      "outputs": [
        {
          "output_type": "stream",
          "name": "stdout",
          "text": [
            "100 Hi there! di ako marunong sa math\n"
          ]
        }
      ],
      "source": [
        "a = 1\n",
        "b = 99\n",
        "\n",
        "sum = a + b\n",
        "c = \"Hi there!\"\n",
        "d = \"di ako marunong sa math\"\n",
        "print(sum,str(c), str(d))"
      ]
    },
    {
      "cell_type": "code",
      "source": [
        "a = 3\n",
        "b = 9\n",
        "\n",
        "if a < b :\n",
        "  print(\"a is less than b :)\")"
      ],
      "metadata": {
        "colab": {
          "base_uri": "https://localhost:8080/"
        },
        "id": "rOxcEeQREE3m",
        "outputId": "138d8adb-a9ea-4883-b173-d34b230bb0f5"
      },
      "execution_count": 10,
      "outputs": [
        {
          "output_type": "stream",
          "name": "stdout",
          "text": [
            "a is less than b :)\n"
          ]
        }
      ]
    },
    {
      "cell_type": "code",
      "source": [
        "a = 10\n",
        "b = 5\n",
        "\n",
        "if a < b :\n",
        "  print(\"a is less than b\")\n",
        "\n",
        "else:\n",
        "  print(\"try again\")"
      ],
      "metadata": {
        "colab": {
          "base_uri": "https://localhost:8080/"
        },
        "id": "qVDNbiB9J1xv",
        "outputId": "85c6254d-af59-4198-8386-3e5ea065bed9"
      },
      "execution_count": 12,
      "outputs": [
        {
          "output_type": "stream",
          "name": "stdout",
          "text": [
            "try again\n"
          ]
        }
      ]
    },
    {
      "cell_type": "code",
      "source": [
        "M = 9\n",
        "N = 2\n",
        "\n",
        "if M == N :\n",
        "  print(\"M is equal to N\")\n",
        "\n",
        "elif M > N :\n",
        "  print(\"Okay :)\")\n",
        "\n",
        "else:\n",
        "  print(\"M is Less than N\")"
      ],
      "metadata": {
        "colab": {
          "base_uri": "https://localhost:8080/"
        },
        "id": "xRdYndUiKOsG",
        "outputId": "c6a295f5-e5ac-4107-ec06-1780ebaf53a1"
      },
      "execution_count": 18,
      "outputs": [
        {
          "output_type": "stream",
          "name": "stdout",
          "text": [
            "Okay :)\n"
          ]
        }
      ]
    },
    {
      "cell_type": "code",
      "source": [
        "print(\"Hi please identify your BMI!\")\n",
        "name = str(input(\"Enter your name please: \"))\n",
        "weight = int(input(\"place your weight in Kg: \"))\n",
        "height = int(float(input(\"place your height in Ft: \")))\n",
        "\n",
        "bmi = weight / height\n",
        "if height < 0:\n",
        "  print(\"Try again\")\n",
        "\n",
        "else:\n",
        "  print(bmi, name)"
      ],
      "metadata": {
        "colab": {
          "base_uri": "https://localhost:8080/"
        },
        "id": "Zm_fSRfVK7b-",
        "outputId": "832d13ed-c8f5-44c1-ee20-8aedb0f8ddf5"
      },
      "execution_count": 34,
      "outputs": [
        {
          "output_type": "stream",
          "name": "stdout",
          "text": [
            "Hi please identify your BMI!\n",
            "Enter your name please: Ian\n",
            "place your weight in Kg: 9\n",
            "place your height in Ft: 6.5\n",
            "1.5 Ian\n"
          ]
        }
      ]
    },
    {
      "cell_type": "code",
      "source": [
        "def function1():\n",
        "  print(\"WAAAAAA\")\n",
        "  print(\"WAAAAAAAA\")\n",
        "\n",
        "print(function1)\n"
      ],
      "metadata": {
        "colab": {
          "base_uri": "https://localhost:8080/"
        },
        "id": "bVkrhI1iNDk2",
        "outputId": "5b3ffd55-51c3-4db5-a248-987d75766c43"
      },
      "execution_count": 36,
      "outputs": [
        {
          "output_type": "stream",
          "name": "stdout",
          "text": [
            "<function function1 at 0x7be3c17204c0>\n"
          ]
        }
      ]
    },
    {
      "cell_type": "code",
      "source": [
        "function1()"
      ],
      "metadata": {
        "colab": {
          "base_uri": "https://localhost:8080/"
        },
        "id": "c5OoJGbwQQIv",
        "outputId": "e6ed3346-2f46-42cc-8304-97f0ecf33ba5"
      },
      "execution_count": 37,
      "outputs": [
        {
          "output_type": "stream",
          "name": "stdout",
          "text": [
            "WAAAAAA\n",
            "WAAAAAAAA\n"
          ]
        }
      ]
    },
    {
      "cell_type": "code",
      "source": [],
      "metadata": {
        "id": "rs8Jtvb5QUAO"
      },
      "execution_count": null,
      "outputs": []
    }
  ]
}